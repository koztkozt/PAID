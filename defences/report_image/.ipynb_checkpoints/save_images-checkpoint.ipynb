{
 "cells": [
  {
   "cell_type": "code",
   "execution_count": null,
   "id": "b907eb28-5355-49e4-9cdf-23ed9936358f",
   "metadata": {},
   "outputs": [],
   "source": [
    "# save images to numpy \n",
    "! cd defences && feature_squeeze_save_image.py "
   ]
  },
  {
   "cell_type": "code",
   "execution_count": 11,
   "id": "d9087026-35d5-434d-acd3-ea03d39b3608",
   "metadata": {},
   "outputs": [],
   "source": [
    "! cd defences/report_image && python save_images.py"
   ]
  }
 ],
 "metadata": {
  "kernelspec": {
   "display_name": "default:Python",
   "language": "python",
   "name": "conda-env-default-py"
  },
  "language_info": {
   "codemirror_mode": {
    "name": "ipython",
    "version": 3
   },
   "file_extension": ".py",
   "mimetype": "text/x-python",
   "name": "python",
   "nbconvert_exporter": "python",
   "pygments_lexer": "ipython3",
   "version": "3.9.13"
  }
 },
 "nbformat": 4,
 "nbformat_minor": 5
}
