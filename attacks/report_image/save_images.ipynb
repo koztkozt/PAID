{
 "cells": [
  {
   "cell_type": "code",
   "execution_count": null,
   "id": "1684a4a4-fab3-44f7-aad4-ecbd3d6b99c3",
   "metadata": {},
   "outputs": [],
   "source": [
    "# save images to numpy \n",
    "# comment out the attacks one by one\n",
    "! cd attacks && attacking_save_image.py "
   ]
  },
  {
   "cell_type": "code",
   "execution_count": 11,
   "id": "d9087026-35d5-434d-acd3-ea03d39b3608",
   "metadata": {},
   "outputs": [],
   "source": [
    "! cd attacks/report_image && python save_images.py"
   ]
  }
 ],
 "metadata": {
  "kernelspec": {
   "display_name": "default:Python",
   "language": "python",
   "name": "conda-env-default-py"
  },
  "language_info": {
   "codemirror_mode": {
    "name": "ipython",
    "version": 3
   },
   "file_extension": ".py",
   "mimetype": "text/x-python",
   "name": "python",
   "nbconvert_exporter": "python",
   "pygments_lexer": "ipython3",
   "version": "3.9.13"
  }
 },
 "nbformat": 4,
 "nbformat_minor": 5
}
